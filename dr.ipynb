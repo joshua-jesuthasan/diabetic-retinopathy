{
 "cells": [
  {
   "cell_type": "code",
   "execution_count": null,
   "metadata": {},
   "outputs": [],
   "source": [
    "!pip install imutils\n",
    "!pip install efficientnet\n",
    "!pip install Pillow"
   ]
  },
  {
   "cell_type": "code",
   "execution_count": null,
   "metadata": {},
   "outputs": [],
   "source": [
    "import pandas as pd\n",
    "import numpy as np \n",
    "from tqdm import tqdm\n",
    "import os\n",
    "import glob\n",
    "import matplotlib.pyplot as plt\n",
    "from sklearn.preprocessing import LabelBinarizer\n",
    "from sklearn.model_selection import train_test_split\n",
    "from sklearn.metrics import accuracy_score, confusion_matrix\n",
    "from PIL import Image\n",
    "\n",
    "\n",
    "import matplotlib as plt\n",
    "from tensorflow.keras.preprocessing.image import ImageDataGenerator\n",
    "from efficientnet.tfkeras import EfficientNetB0\n",
    "from tensorflow.keras import layers\n",
    "from tensorflow.keras.models import Model, Sequential\n",
    "from tensorflow.keras.optimizers import Adam, RMSprop\n",
    "from tensorflow.keras.callbacks import EarlyStopping\n",
    "from tensorflow.keras.preprocessing import image\n",
    "from keras.layers import Dense, Dropout, Flatten, BatchNormalization\n",
    "import warnings\n",
    "warnings.filterwarnings('ignore')"
   ]
  },
  {
   "cell_type": "code",
   "execution_count": null,
   "metadata": {},
   "outputs": [],
   "source": [
    "from pathlib import Path\n",
    "\n",
    "images_directory = Path('/gaussian_filtered_images/gaussian_filtered_images')\n",
    "file_paths = list(images_directory.glob(r'**/*.png'))\n",
    "\n",
    "labels = []\n",
    "for filepath in filepaths:\n",
    "    diagnosis_labels = [os.path.split(os.path.split(fp)[0])[1] for fp in file_paths]\n",
    "    labels.append(label)\n"
   ]
  },
  {
   "cell_type": "code",
   "execution_count": null,
   "metadata": {},
   "outputs": [],
   "source": [
    "file_paths_series = pd.Series(file_paths, name='Filepaths').astype(str)\n",
    "labels_series = pd.Series(diagnosis_labels, name='Diagnosis')\n",
    "\n",
    "images_df = pd.concat([file_paths_series, labels_series], axis=1)\n",
    "images_df = images_df.sample(frac=1).reset_index(drop=True)\n",
    "\n",
    "\n",
    "images_df.head(4)\n",
    "images_df['Diagnosis'].value_counts()"
   ]
  },
  {
   "cell_type": "code",
   "execution_count": null,
   "metadata": {},
   "outputs": [],
   "source": [
    "from sklearn.preprocessing import LabelEncoder\n",
    "label_encoder = LabelEncoder()\n",
    "images_df['Diagnosis'] = label_encoder.fit_transform(images_df['Diagnosis'])\n"
   ]
  },
  {
   "cell_type": "code",
   "execution_count": null,
   "metadata": {},
   "outputs": [],
   "source": [
    "from sklearn.utils import resample\n",
    "\n",
    "n_samples = 400\n",
    "label_counts = df['Label'].value_counts()\n",
    "balanced_dataframes = {}\n",
    "\n",
    "for label in range(5):    \n",
    "    df_subset = images_df[images_df['Diagnosis'] == label]\n",
    "    if df_subset.shape[0] < n_samples:\n",
    "        resampled_df = pd.concat([df_subset] * ((n_samples + df_subset.shape[0] - 1) // df_subset.shape[0]))\n",
    "        resampled_df = resampled_df.sample(n_samples, replace=True, random_state=42)\n",
    "    else:\n",
    "        resampled_df = resample(df_subset, n_samples=n_samples, replace=True, random_state=42)\n",
    "    \n",
    "    balanced_dataframes[label] = resampled_df\n",
    "\n",
    "balanced_images_df = pd.concat(balanced_dataframes.values())\n",
    "balanced_images_df = balanced_images_df.sample(frac=1, random_state=42).reset_index(drop=True)\n",
    "\n",
    "balanced_images_df['Diagnosis'].value_counts()\n"
   ]
  },
  {
   "cell_type": "code",
   "execution_count": null,
   "metadata": {},
   "outputs": [],
   "source": [
    "from glob import glob\n",
    "from pathlib import Path\n",
    "\n",
    "directory = '/kaggle/input/diabetic-retinopathy-224x224-gaussian-filtered/gaussian_filtered_images/gaussian_filtered_images/'\n",
    "\n",
    "# Create a pattern to access all PNG files in the directory\n",
    "pattern = os.path.join(directory, '*', '*.png')\n",
    "\n",
    "# Use glob to get all file paths matching the pattern\n",
    "image_paths = glob(pattern)\n",
    "\n",
    "size = (224, 224)\n",
    "\n",
    "\n",
    "def resize_image(file_path, target_size=(224, 224)):\n",
    "    image = Image.open(file_path)\n",
    "    image = image.resize(target_size)\n",
    "    image_array = np.asarray(image)\n",
    "    return image_array\n",
    "\n",
    "balanced_images_df['ResizedImage'] = balanced_images_df['Filepaths'].apply(resize_image)\n",
    "\n"
   ]
  },
  {
   "cell_type": "code",
   "execution_count": null,
   "metadata": {},
   "outputs": [],
   "source": [
    "balanced_images_df['ResizedImage']"
   ]
  },
  {
   "cell_type": "code",
   "execution_count": null,
   "metadata": {},
   "outputs": [],
   "source": [
    "import plotly.graph_objs as go\n",
    "from plotly.subplots import make_subplots\n",
    "sampled_images = balanced_df['image'].sample(6, random_state=42)\n",
    "size = (224, 224)\n",
    "sampled_images = [Image.fromarray(img).resize(size) for img in sampled_images]\n",
    "\n",
    "sampled_images = [np.array(img) for img in sampled_images]\n",
    "\n",
    "fig = make_subplots(rows=2, cols=3, subplot_titles=(\"Img 1\", \"Img 2\", \"Img 3\", \"Img 4\", \"Img 5\", \"Img 6\"))\n",
    "\n",
    "for i, img in enumerate(sampled_images, start=1):\n",
    "    fig.add_trace(go.Image(z=img), row=(i-1) // 3 + 1, col=(i-1) % 3 + 1)\n",
    "\n",
    "fig.update_layout(\n",
    "    title=\"Sample Images From Dataset\",\n",
    "    width=800,\n",
    "    height=600,\n",
    "    margin=dict(l=20, r=20, t=60, b=20),\n",
    ")\n",
    "\n",
    "fig.show()"
   ]
  },
  {
   "cell_type": "code",
   "execution_count": null,
   "metadata": {},
   "outputs": [],
   "source": [
    "from tensorflow.keras.utils import to_categorical\n",
    "images_array = np.asarray(balanced_images_df['ResizedImage'].tolist()) / 255.0\n",
    "labels_array = to_categorical(balanced_images_df['Diagnosis'], num_classes=5)\n",
    "X_train, X_test, Y_train, Y_test = train_test_split(images_array, labels_array, test_size=0.2, random_state=42, shuffle=True)\n"
   ]
  },
  {
   "cell_type": "code",
   "execution_count": null,
   "metadata": {},
   "outputs": [],
   "source": [
    "from tensorflow.keras.models import Model\n",
    "from tensorflow.keras.applications.densenet import DenseNet121\n",
    "from keras.callbacks import EarlyStopping\n",
    "\n",
    "\n",
    "es = EarlyStopping(monitor='val_accuracy', min_delta=0.005, patience=10, verbose=1, mode='auto')\n",
    "vgg = DenseNet121(input_shape=(224, 224, 3), weights='imagenet', include_top=False)\n",
    "vgg.trainable = False\n",
    "x = Flatten()(vgg.output)\n",
    "x = layers.Dense(256, activation='relu')(x)\n",
    "x = layers.Dropout(0.4)(x)\n",
    "prediction = Dense(5, activation='softmax')(x)\n",
    "model = Model(inputs=vgg.input, outputs=prediction)\n",
    "model.compile(Adam(learning_rate=0.0001), loss='categorical_crossentropy', metrics=['accuracy'])\n",
    "training_history = model.fit(X_train, Y_train, epochs=25, batch_size=8, validation_data=(X_test, Y_test), callbacks=[es])"
   ]
  },
  {
   "cell_type": "code",
   "execution_count": null,
   "metadata": {},
   "outputs": [],
   "source": [
    "test_loss, test_accuracy = model.evaluate(X_test, Y_test)\n",
    "print(\"Test Loss:\", test_loss)\n",
    "print(\"Test Accuracy:\", test_accuracy)\n"
   ]
  },
  {
   "cell_type": "code",
   "execution_count": null,
   "metadata": {},
   "outputs": [],
   "source": [
    "import matplotlib.pyplot as plt\n",
    "\n",
    "training_accuracy = training_history.history['accuracy']\n",
    "training_loss = training_history.history['loss']\n",
    "validation_accuracy = training_history.history['val_accuracy']\n",
    "validation_loss = training_history.history['val_loss']\n",
    "\n",
    "epoch_numbers = range(1, len(training_accuracy) + 1)\n",
    "\n",
    "plt.figure(figsize=(20, 8))\n",
    "plt.subplot(1, 2, 1)\n",
    "plt.plot(epoch_numbers, training_loss, 'b-', label='Training Loss')\n",
    "plt.plot(epoch_numbers, validation_loss, 'g-', label='Validation Loss')\n",
    "plt.title('Training and Validation Loss')\n",
    "plt.legend()\n",
    "\n",
    "plt.subplot(1, 2, 2)\n",
    "plt.plot(epoch_numbers, training_accuracy, 'b-', label='Training Accuracy')\n",
    "plt.plot(epoch_numbers, validation_accuracy, 'g-', label='Validation Accuracy')\n",
    "plt.title('Training and Validation Accuracy')\n",
    "plt.legend()\n",
    "\n",
    "plt.show()\n",
    "\n"
   ]
  }
 ],
 "metadata": {
  "language_info": {
   "name": "python"
  }
 },
 "nbformat": 4,
 "nbformat_minor": 2
}
